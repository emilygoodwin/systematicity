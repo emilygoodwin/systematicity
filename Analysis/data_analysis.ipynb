{
 "cells": [
  {
   "cell_type": "code",
   "execution_count": 5,
   "metadata": {},
   "outputs": [],
   "source": [
    "import os\n",
    "loc = '/scratch/koustuvs/compositionality/'"
   ]
  },
  {
   "cell_type": "code",
   "execution_count": 14,
   "metadata": {},
   "outputs": [],
   "source": [
    "test_labels = []\n",
    "with open(os.path.join(loc, 'step_0', 'labels.test'),'r') as fp:\n",
    "    for line in fp:\n",
    "        test_labels.append(line.rstrip())"
   ]
  },
  {
   "cell_type": "code",
   "execution_count": 57,
   "metadata": {},
   "outputs": [],
   "source": [
    "train_labels = []\n",
    "with open(os.path.join(loc, 'step_0', 'labels.train'),'r') as fp:\n",
    "    for line in fp:\n",
    "        train_labels.append(line.rstrip())"
   ]
  },
  {
   "cell_type": "code",
   "execution_count": 15,
   "metadata": {},
   "outputs": [],
   "source": [
    "from collections import Counter"
   ]
  },
  {
   "cell_type": "code",
   "execution_count": 16,
   "metadata": {},
   "outputs": [],
   "source": [
    "label_ct = Counter(test_labels)"
   ]
  },
  {
   "cell_type": "code",
   "execution_count": 56,
   "metadata": {},
   "outputs": [
    {
     "data": {
      "text/plain": [
       "Counter({'#': 5741238,\n",
       "         '>': 735215,\n",
       "         'v': 718196,\n",
       "         '<': 728956,\n",
       "         '|': 731653,\n",
       "         '=': 9778,\n",
       "         '^': 21341})"
      ]
     },
     "execution_count": 56,
     "metadata": {},
     "output_type": "execute_result"
    }
   ],
   "source": [
    "label_ct"
   ]
  },
  {
   "cell_type": "code",
   "execution_count": 58,
   "metadata": {},
   "outputs": [],
   "source": [
    "label_tr = Counter(train_labels)"
   ]
  },
  {
   "cell_type": "code",
   "execution_count": 59,
   "metadata": {},
   "outputs": [
    {
     "data": {
      "text/plain": [
       "Counter({'<': 70878,\n",
       "         '#': 680875,\n",
       "         'v': 70065,\n",
       "         '|': 71445,\n",
       "         '>': 71180,\n",
       "         '=': 667,\n",
       "         '^': 1699})"
      ]
     },
     "execution_count": 59,
     "metadata": {},
     "output_type": "execute_result"
    }
   ],
   "source": [
    "label_tr"
   ]
  },
  {
   "cell_type": "code",
   "execution_count": 10,
   "metadata": {},
   "outputs": [],
   "source": [
    "import pandas as pd\n",
    "df = pd.read_csv(os.path.join(loc, 'step_0','step_0_BGRUlastEncoder_outp.csv'))"
   ]
  },
  {
   "cell_type": "code",
   "execution_count": 11,
   "metadata": {},
   "outputs": [
    {
     "data": {
      "text/plain": [
       "8686377"
      ]
     },
     "execution_count": 11,
     "metadata": {},
     "output_type": "execute_result"
    }
   ],
   "source": [
    "len(df)"
   ]
  },
  {
   "cell_type": "code",
   "execution_count": 12,
   "metadata": {},
   "outputs": [
    {
     "data": {
      "text/plain": [
       "8686377"
      ]
     },
     "execution_count": 12,
     "metadata": {},
     "output_type": "execute_result"
    }
   ],
   "source": [
    "len(test_labels)"
   ]
  },
  {
   "cell_type": "code",
   "execution_count": 17,
   "metadata": {},
   "outputs": [],
   "source": [
    "def accuracy(label='#'):\n",
    "    return len(df[(df['true_target'] == label) & (df['predicted'] == label)]) / len(df[df['true_target'] == label])"
   ]
  },
  {
   "cell_type": "code",
   "execution_count": 20,
   "metadata": {},
   "outputs": [
    {
     "name": "stdout",
     "output_type": "stream",
     "text": [
      "# --> 0.9609976106198698\n",
      "> --> 0.9122134341655163\n",
      "v --> 0.9235445477279183\n",
      "< --> 0.9226949226016385\n",
      "| --> 0.9220504802139812\n",
      "= --> 0.9995909183882185\n",
      "^ --> 0.9190759570779251\n"
     ]
    }
   ],
   "source": [
    "for key in label_ct:\n",
    "    acc = accuracy(key)\n",
    "    print(key, '-->', acc)"
   ]
  },
  {
   "cell_type": "code",
   "execution_count": 21,
   "metadata": {},
   "outputs": [
    {
     "data": {
      "text/html": [
       "<div>\n",
       "<style scoped>\n",
       "    .dataframe tbody tr th:only-of-type {\n",
       "        vertical-align: middle;\n",
       "    }\n",
       "\n",
       "    .dataframe tbody tr th {\n",
       "        vertical-align: top;\n",
       "    }\n",
       "\n",
       "    .dataframe thead th {\n",
       "        text-align: right;\n",
       "    }\n",
       "</style>\n",
       "<table border=\"1\" class=\"dataframe\">\n",
       "  <thead>\n",
       "    <tr style=\"text-align: right;\">\n",
       "      <th></th>\n",
       "      <th>Unnamed: 0</th>\n",
       "      <th>s_1</th>\n",
       "      <th>s_2</th>\n",
       "      <th>true_target</th>\n",
       "      <th>predicted</th>\n",
       "    </tr>\n",
       "  </thead>\n",
       "  <tbody>\n",
       "    <tr>\n",
       "      <th>0</th>\n",
       "      <td>0</td>\n",
       "      <td>&lt;s&gt; some rose N11.4 hum V8.2 &lt;/s&gt;</td>\n",
       "      <td>&lt;s&gt; all N11.2 sing not V8.2 &lt;/s&gt;</td>\n",
       "      <td>#</td>\n",
       "      <td>#</td>\n",
       "    </tr>\n",
       "    <tr>\n",
       "      <th>1</th>\n",
       "      <td>1</td>\n",
       "      <td>&lt;s&gt; all N17.4 hum not V14.0 &lt;/s&gt;</td>\n",
       "      <td>&lt;s&gt; all rose N17.1 not V14.6 &lt;/s&gt;</td>\n",
       "      <td>#</td>\n",
       "      <td>#</td>\n",
       "    </tr>\n",
       "    <tr>\n",
       "      <th>2</th>\n",
       "      <td>2</td>\n",
       "      <td>&lt;s&gt; all red N26.1 sing not V22.5 &lt;/s&gt;</td>\n",
       "      <td>&lt;s&gt; all red N26.4 sing not V22.1 &lt;/s&gt;</td>\n",
       "      <td>#</td>\n",
       "      <td>#</td>\n",
       "    </tr>\n",
       "    <tr>\n",
       "      <th>3</th>\n",
       "      <td>3</td>\n",
       "      <td>&lt;s&gt; some N8.2 sing not V5.2 &lt;/s&gt;</td>\n",
       "      <td>&lt;s&gt; all rose N8.1 sing not V5.0 &lt;/s&gt;</td>\n",
       "      <td>#</td>\n",
       "      <td>#</td>\n",
       "    </tr>\n",
       "    <tr>\n",
       "      <th>4</th>\n",
       "      <td>4</td>\n",
       "      <td>&lt;s&gt; some red N51.4 not V47.4 &lt;/s&gt;</td>\n",
       "      <td>&lt;s&gt; all red N51.1 sing V47.4 &lt;/s&gt;</td>\n",
       "      <td>#</td>\n",
       "      <td>#</td>\n",
       "    </tr>\n",
       "  </tbody>\n",
       "</table>\n",
       "</div>"
      ],
      "text/plain": [
       "   Unnamed: 0                                    s_1  \\\n",
       "0           0      <s> some rose N11.4 hum V8.2 </s>   \n",
       "1           1       <s> all N17.4 hum not V14.0 </s>   \n",
       "2           2  <s> all red N26.1 sing not V22.5 </s>   \n",
       "3           3       <s> some N8.2 sing not V5.2 </s>   \n",
       "4           4      <s> some red N51.4 not V47.4 </s>   \n",
       "\n",
       "                                     s_2 true_target predicted  \n",
       "0       <s> all N11.2 sing not V8.2 </s>           #         #  \n",
       "1      <s> all rose N17.1 not V14.6 </s>           #         #  \n",
       "2  <s> all red N26.4 sing not V22.1 </s>           #         #  \n",
       "3   <s> all rose N8.1 sing not V5.0 </s>           #         #  \n",
       "4      <s> all red N51.1 sing V47.4 </s>           #         #  "
      ]
     },
     "execution_count": 21,
     "metadata": {},
     "output_type": "execute_result"
    }
   ],
   "source": [
    "df.head()"
   ]
  },
  {
   "cell_type": "code",
   "execution_count": 42,
   "metadata": {},
   "outputs": [],
   "source": [
    "import json\n",
    "meta = json.load(open(os.path.join(loc, 'step_0','meta_data.json')))"
   ]
  },
  {
   "cell_type": "code",
   "execution_count": 43,
   "metadata": {},
   "outputs": [
    {
     "data": {
      "text/plain": [
       "1"
      ]
     },
     "execution_count": 43,
     "metadata": {},
     "output_type": "execute_result"
    }
   ],
   "source": [
    "len(meta)"
   ]
  },
  {
   "cell_type": "code",
   "execution_count": 41,
   "metadata": {},
   "outputs": [
    {
     "ename": "NameError",
     "evalue": "name 'meta' is not defined",
     "output_type": "error",
     "traceback": [
      "\u001b[0;31m---------------------------------------------------------------------------\u001b[0m",
      "\u001b[0;31mNameError\u001b[0m                                 Traceback (most recent call last)",
      "\u001b[0;32m<ipython-input-41-d0114cd9e9e1>\u001b[0m in \u001b[0;36m<module>\u001b[0;34m\u001b[0m\n\u001b[0;32m----> 1\u001b[0;31m \u001b[0mlist\u001b[0m\u001b[0;34m(\u001b[0m\u001b[0mmeta\u001b[0m\u001b[0;34m[\u001b[0m\u001b[0;34m'sentences'\u001b[0m\u001b[0;34m]\u001b[0m\u001b[0;34m.\u001b[0m\u001b[0mkeys\u001b[0m\u001b[0;34m(\u001b[0m\u001b[0;34m)\u001b[0m\u001b[0;34m)\u001b[0m\u001b[0;34m[\u001b[0m\u001b[0;36m0\u001b[0m\u001b[0;34m]\u001b[0m\u001b[0;34m\u001b[0m\u001b[0;34m\u001b[0m\u001b[0m\n\u001b[0m",
      "\u001b[0;31mNameError\u001b[0m: name 'meta' is not defined"
     ]
    }
   ],
   "source": [
    "list(meta['sentences'].keys())[0]"
   ]
  },
  {
   "cell_type": "code",
   "execution_count": 1,
   "metadata": {},
   "outputs": [],
   "source": [
    "import os\n",
    "import json\n",
    "import re"
   ]
  },
  {
   "cell_type": "code",
   "execution_count": 2,
   "metadata": {},
   "outputs": [],
   "source": [
    "import sys\n",
    "sys.path.append(\"../Code/systematicity-tests/\")\n",
    "from sentence import Sentence\n",
    "from item import Item\n"
   ]
  },
  {
   "cell_type": "code",
   "execution_count": 7,
   "metadata": {},
   "outputs": [],
   "source": [
    "def get_item(tup, correct): \n",
    "\tprem = tup[0].replace(\")\", '')\n",
    "\thypo = tup[1].replace(\")\", '')\n",
    "\tprem = prem.replace(\"u'\", '')\n",
    "\thypo = hypo.replace(\"u'\", '')\n",
    "\tprem = re.split(r'\\(\\w+', prem)\n",
    "\thypo = re.split(r'\\(\\w+', hypo)\n",
    "\tprem = Sentence(prem[2], prem[3], prem[4], prem[5], prem[6], prem[7], prem[8])\n",
    "\thypo = Sentence(hypo[2], hypo[3], hypo[4], hypo[5], hypo[6], hypo[7], hypo[8])\n",
    "\tpair = Item(prem, hypo, correct, '' ,1)\n",
    "\treturn(pair)"
   ]
  },
  {
   "cell_type": "code",
   "execution_count": 8,
   "metadata": {},
   "outputs": [],
   "source": [
    "TCN = {}\n",
    "WUG = {}\n",
    "IdToStr = {}\n",
    "\n",
    "a = json.load(open(os.path.join(loc, 'step_0','meta_data.json')))\n",
    "##I can't figure out why, but a is a dict with one entry (a nested dict, where the keys are actually sentences)\n",
    "#so we have to un-nest it: \n",
    "for key in a: \n",
    "    StrToId= a[key]\n",
    "    break\n",
    "#then build a dict to handle the reverse pointing: \n",
    "for pair in StrToId: \n",
    "    IdToStr[StrToId[pair]] = pair\n",
    "\n",
    "\n",
    "with open(os.path.join(loc, 'step_0','format_out.jsonl')) as fp: \n",
    "    for line in fp:\n",
    "        d = json.loads(line.rstrip())\n",
    "        atup = IdToStr[d['PairA'][0]], IdToStr[d['PairA'][1]]\n",
    "        bpairlist = d['PairB']\n",
    "        acorrect = d['PairAcorrectlabel']\n",
    "        apredict = d['PairApredictedlabel']\n",
    "        bcorrect = d['PairBcorrectlabel']\n",
    "        bpredict = d['PairBPredictedlabel']\n",
    "        Atype = d['PairAtesttype']\n",
    "        apair = get_item(atup, acorrect)\n",
    "        if Atype == 'TCN':\n",
    "            for each in zip(bpairlist, bcorrect, bpredict):\n",
    "                btup = IdToStr[each[0][0]], IdToStr[each[0][1]]\t\t\n",
    "                bpair = get_item(btup, each[1])\n",
    "                TCN[apair] = bpair.premise, bpair.hypothesis, acorrect, apredict, each[1], each[2], apair.diff(bpair)\n",
    "        if (Atype == 'TIW') | (Atype == 'TCW'):\n",
    "            for each in zip(bpairlist, bcorrect, bpredict):\n",
    "                btup = IdToStr[each[0][0]], IdToStr[each[0][1]]\n",
    "                bpair = get_item(btup, each[1])\n",
    "                WUG[apair] = bpair.premise, bpair.hypothesis, acorrect, apredict, each[1], each[2], apair.diff(bpair)"
   ]
  },
  {
   "cell_type": "code",
   "execution_count": 9,
   "metadata": {},
   "outputs": [
    {
     "data": {
      "text/plain": [
       "97427"
      ]
     },
     "execution_count": 9,
     "metadata": {},
     "output_type": "execute_result"
    }
   ],
   "source": [
    "len(TCN)"
   ]
  },
  {
   "cell_type": "code",
   "execution_count": 10,
   "metadata": {},
   "outputs": [
    {
     "data": {
      "text/plain": [
       "48621"
      ]
     },
     "execution_count": 10,
     "metadata": {},
     "output_type": "execute_result"
    }
   ],
   "source": [
    "len(WUG)"
   ]
  },
  {
   "cell_type": "code",
   "execution_count": 12,
   "metadata": {},
   "outputs": [
    {
     "data": {
      "text/plain": [
       "(<sentence.Sentence at 0x7ff65325d588>,\n",
       " <sentence.Sentence at 0x7ff65325d6a0>,\n",
       " '#',\n",
       " '#',\n",
       " '<',\n",
       " '<',\n",
       " (['   ', '   that sing'], 'hypothesis'))"
      ]
     },
     "execution_count": 12,
     "metadata": {},
     "output_type": "execute_result"
    }
   ],
   "source": [
    "list(TCN.values())[0]"
   ]
  },
  {
   "cell_type": "code",
   "execution_count": 26,
   "metadata": {},
   "outputs": [],
   "source": [
    "def get_acc(d, label):\n",
    "    tot = 0\n",
    "    cor = 0\n",
    "    for line in d:\n",
    "        if line['PairAcorrectlabel'] == label:\n",
    "            tot +=1\n",
    "            if line['PairApredictedlabel'] == label:\n",
    "                cor +=1\n",
    "    return (cor/tot), tot"
   ]
  },
  {
   "cell_type": "code",
   "execution_count": 28,
   "metadata": {},
   "outputs": [],
   "source": [
    "def print_stats(test_type='TCN'):\n",
    "    pair_lines_test = [p for p in pair_lines if p['PairAtesttype'] == test_type]\n",
    "    for key in label_ct:\n",
    "        acc, tot = get_acc(pair_lines_test, key)\n",
    "        print(key, '-->', acc, '/', tot)"
   ]
  },
  {
   "cell_type": "code",
   "execution_count": 21,
   "metadata": {},
   "outputs": [],
   "source": [
    "pair_lines = []\n",
    "with open(os.path.join(loc, 'step_0','format_out.jsonl')) as fp: \n",
    "    for line in fp:\n",
    "        d = json.loads(line.rstrip())\n",
    "        pair_lines.append(d)"
   ]
  },
  {
   "cell_type": "code",
   "execution_count": 22,
   "metadata": {},
   "outputs": [
    {
     "data": {
      "text/plain": [
       "271987"
      ]
     },
     "execution_count": 22,
     "metadata": {},
     "output_type": "execute_result"
    }
   ],
   "source": [
    "len(pair_lines)"
   ]
  },
  {
   "cell_type": "code",
   "execution_count": 34,
   "metadata": {},
   "outputs": [
    {
     "name": "stdout",
     "output_type": "stream",
     "text": [
      "# --> 0.7812122167902014 / 19023\n",
      "> --> 0.5158227848101266 / 1896\n",
      "v --> 0.5860042735042735 / 1872\n",
      "< --> 0.5601092896174863 / 1830\n",
      "| --> 0.5738953783646521 / 1969\n",
      "= --> 1.0 / 23\n",
      "^ --> 0.8461538461538461 / 39\n"
     ]
    }
   ],
   "source": [
    "print_stats('TIW')"
   ]
  },
  {
   "cell_type": "code",
   "execution_count": 33,
   "metadata": {},
   "outputs": [
    {
     "ename": "ZeroDivisionError",
     "evalue": "division by zero",
     "output_type": "error",
     "traceback": [
      "\u001b[0;31m---------------------------------------------------------------------------\u001b[0m",
      "\u001b[0;31mZeroDivisionError\u001b[0m                         Traceback (most recent call last)",
      "\u001b[0;32m<ipython-input-33-a6f937f2aaaa>\u001b[0m in \u001b[0;36m<module>\u001b[0;34m\u001b[0m\n\u001b[0;32m----> 1\u001b[0;31m \u001b[0mprint_stats\u001b[0m\u001b[0;34m(\u001b[0m\u001b[0;34m'TIR'\u001b[0m\u001b[0;34m)\u001b[0m\u001b[0;34m\u001b[0m\u001b[0;34m\u001b[0m\u001b[0m\n\u001b[0m",
      "\u001b[0;32m<ipython-input-28-9c4eadda98eb>\u001b[0m in \u001b[0;36mprint_stats\u001b[0;34m(test_type)\u001b[0m\n\u001b[1;32m      2\u001b[0m     \u001b[0mpair_lines_test\u001b[0m \u001b[0;34m=\u001b[0m \u001b[0;34m[\u001b[0m\u001b[0mp\u001b[0m \u001b[0;32mfor\u001b[0m \u001b[0mp\u001b[0m \u001b[0;32min\u001b[0m \u001b[0mpair_lines\u001b[0m \u001b[0;32mif\u001b[0m \u001b[0mp\u001b[0m\u001b[0;34m[\u001b[0m\u001b[0;34m'PairAtesttype'\u001b[0m\u001b[0;34m]\u001b[0m \u001b[0;34m==\u001b[0m \u001b[0mtest_type\u001b[0m\u001b[0;34m]\u001b[0m\u001b[0;34m\u001b[0m\u001b[0;34m\u001b[0m\u001b[0m\n\u001b[1;32m      3\u001b[0m     \u001b[0;32mfor\u001b[0m \u001b[0mkey\u001b[0m \u001b[0;32min\u001b[0m \u001b[0mlabel_ct\u001b[0m\u001b[0;34m:\u001b[0m\u001b[0;34m\u001b[0m\u001b[0;34m\u001b[0m\u001b[0m\n\u001b[0;32m----> 4\u001b[0;31m         \u001b[0macc\u001b[0m\u001b[0;34m,\u001b[0m \u001b[0mtot\u001b[0m \u001b[0;34m=\u001b[0m \u001b[0mget_acc\u001b[0m\u001b[0;34m(\u001b[0m\u001b[0mpair_lines_test\u001b[0m\u001b[0;34m,\u001b[0m \u001b[0mkey\u001b[0m\u001b[0;34m)\u001b[0m\u001b[0;34m\u001b[0m\u001b[0;34m\u001b[0m\u001b[0m\n\u001b[0m\u001b[1;32m      5\u001b[0m         \u001b[0mprint\u001b[0m\u001b[0;34m(\u001b[0m\u001b[0mkey\u001b[0m\u001b[0;34m,\u001b[0m \u001b[0;34m'-->'\u001b[0m\u001b[0;34m,\u001b[0m \u001b[0macc\u001b[0m\u001b[0;34m,\u001b[0m \u001b[0;34m'/'\u001b[0m\u001b[0;34m,\u001b[0m \u001b[0mtot\u001b[0m\u001b[0;34m)\u001b[0m\u001b[0;34m\u001b[0m\u001b[0;34m\u001b[0m\u001b[0m\n",
      "\u001b[0;32m<ipython-input-26-bfda1356b548>\u001b[0m in \u001b[0;36mget_acc\u001b[0;34m(d, label)\u001b[0m\n\u001b[1;32m      7\u001b[0m             \u001b[0;32mif\u001b[0m \u001b[0mline\u001b[0m\u001b[0;34m[\u001b[0m\u001b[0;34m'PairApredictedlabel'\u001b[0m\u001b[0;34m]\u001b[0m \u001b[0;34m==\u001b[0m \u001b[0mlabel\u001b[0m\u001b[0;34m:\u001b[0m\u001b[0;34m\u001b[0m\u001b[0;34m\u001b[0m\u001b[0m\n\u001b[1;32m      8\u001b[0m                 \u001b[0mcor\u001b[0m \u001b[0;34m+=\u001b[0m\u001b[0;36m1\u001b[0m\u001b[0;34m\u001b[0m\u001b[0;34m\u001b[0m\u001b[0m\n\u001b[0;32m----> 9\u001b[0;31m     \u001b[0;32mreturn\u001b[0m \u001b[0;34m(\u001b[0m\u001b[0mcor\u001b[0m\u001b[0;34m/\u001b[0m\u001b[0mtot\u001b[0m\u001b[0;34m)\u001b[0m\u001b[0;34m,\u001b[0m \u001b[0mtot\u001b[0m\u001b[0;34m\u001b[0m\u001b[0;34m\u001b[0m\u001b[0m\n\u001b[0m",
      "\u001b[0;31mZeroDivisionError\u001b[0m: division by zero"
     ]
    }
   ],
   "source": [
    "print_stats('TIR')"
   ]
  },
  {
   "cell_type": "code",
   "execution_count": 24,
   "metadata": {},
   "outputs": [
    {
     "data": {
      "text/plain": [
       "106661"
      ]
     },
     "execution_count": 24,
     "metadata": {},
     "output_type": "execute_result"
    }
   ],
   "source": [
    "len(pair_lines_tcn)"
   ]
  },
  {
   "cell_type": "code",
   "execution_count": 52,
   "metadata": {},
   "outputs": [],
   "source": [
    "ep = [p for p in pair_lines_tcn if p['PairAcorrectlabel'] == '^']"
   ]
  },
  {
   "cell_type": "code",
   "execution_count": null,
   "metadata": {},
   "outputs": [],
   "source": []
  },
  {
   "cell_type": "code",
   "execution_count": 60,
   "metadata": {},
   "outputs": [
    {
     "name": "stdout",
     "output_type": "stream",
     "text": [
      "[35282, 35283]\n",
      "[37674, 21619]\n",
      "[10029, 26151]\n",
      "[1886, 2192]\n",
      "[55066, 42204]\n",
      "[75429, 23793]\n",
      "[33646, 33644]\n",
      "[36502, 60886]\n",
      "[80962, 11198]\n",
      "[81067, 6255]\n",
      "[28516, 11606]\n",
      "[80564, 78984]\n",
      "[30060, 62352]\n",
      "[23394, 23396]\n",
      "[85125, 11198]\n",
      "[27024, 87142]\n",
      "[21875, 77079]\n",
      "[15439, 11895]\n",
      "[8094, 74710]\n",
      "[72133, 68330]\n",
      "[26601, 65767]\n",
      "[7469, 5115]\n",
      "[66629, 2525]\n",
      "[85785, 81242]\n",
      "[1325, 27958]\n",
      "[3357, 53354]\n",
      "[29473, 10647]\n",
      "[83480, 28652]\n",
      "[32581, 5962]\n",
      "[34694, 73422]\n",
      "[20751, 20753]\n",
      "[58796, 56572]\n",
      "[79119, 10251]\n",
      "[66331, 66330]\n",
      "[52125, 5398]\n",
      "[83495, 46057]\n",
      "[31333, 28621]\n",
      "[51163, 89532]\n",
      "[54889, 1855]\n",
      "[71984, 23417]\n",
      "[88376, 57471]\n",
      "[89040, 51972]\n",
      "[80138, 48194]\n",
      "[81039, 87986]\n",
      "[17564, 89523]\n",
      "[3529, 15825]\n",
      "[16713, 31359]\n",
      "[42955, 87770]\n",
      "[54400, 36854]\n",
      "[80751, 24537]\n",
      "[74179, 76811]\n",
      "[81030, 69089]\n",
      "[87113, 88034]\n",
      "[83050, 55368]\n",
      "[34464, 65991]\n",
      "[37844, 25161]\n",
      "[86280, 89881]\n",
      "[40002, 66535]\n",
      "[87439, 48571]\n",
      "[42029, 54201]\n",
      "[31193, 43245]\n",
      "[207, 20353]\n",
      "[12930, 78463]\n",
      "[69863, 84607]\n",
      "[39094, 46097]\n",
      "[42606, 36798]\n",
      "[4600, 26762]\n",
      "[84820, 54742]\n",
      "[80593, 80032]\n",
      "[2119, 31525]\n",
      "[11035, 74466]\n",
      "[9918, 48059]\n",
      "[39001, 5129]\n",
      "[70434, 70927]\n",
      "[89318, 72418]\n",
      "[81197, 84072]\n",
      "[33271, 56606]\n",
      "[76812, 74179]\n",
      "[451, 25494]\n",
      "[2050, 43243]\n",
      "[5891, 68737]\n",
      "[18329, 59985]\n",
      "[10842, 86770]\n",
      "[85261, 84193]\n",
      "[65537, 87989]\n",
      "[8560, 60190]\n",
      "[81814, 1949]\n",
      "[74414, 72773]\n",
      "[13275, 65332]\n",
      "[84752, 59857]\n",
      "[89266, 55617]\n",
      "[88560, 34854]\n",
      "[4442, 30161]\n",
      "[32655, 57488]\n",
      "[32376, 77029]\n",
      "[16717, 42205]\n",
      "[2120, 72352]\n",
      "[84431, 83650]\n",
      "[89702, 49888]\n",
      "[34133, 63039]\n",
      "[36813, 56965]\n",
      "[35520, 62608]\n",
      "[14651, 40044]\n",
      "[50312, 77481]\n",
      "[88935, 87917]\n",
      "[19944, 5289]\n",
      "[27915, 54715]\n",
      "[55142, 82306]\n",
      "[70028, 38153]\n",
      "[8106, 79949]\n",
      "[44831, 2508]\n",
      "[17384, 48824]\n",
      "[49700, 8092]\n",
      "[44965, 26339]\n",
      "[89465, 42684]\n",
      "[49378, 86378]\n",
      "[56963, 65980]\n",
      "[43553, 15784]\n",
      "[62340, 82268]\n",
      "[6655, 41628]\n",
      "[21857, 64471]\n",
      "[6248, 11270]\n",
      "[48577, 21764]\n",
      "[42599, 54924]\n",
      "[31505, 57797]\n",
      "[20687, 48610]\n",
      "[6523, 30549]\n",
      "[48906, 88102]\n",
      "[20686, 87057]\n",
      "[49518, 72273]\n",
      "[16229, 16225]\n",
      "[18203, 18205]\n",
      "[89605, 11839]\n",
      "[65376, 71553]\n",
      "[82434, 41904]\n",
      "[30176, 62668]\n",
      "[22615, 52590]\n",
      "[85543, 58896]\n",
      "[51111, 66108]\n",
      "[59860, 89206]\n",
      "[23395, 6089]\n",
      "[67019, 52812]\n",
      "[67368, 25286]\n",
      "[71948, 15248]\n",
      "[86354, 84468]\n",
      "[57372, 78853]\n",
      "[52291, 13954]\n",
      "[43099, 2293]\n",
      "[80800, 67724]\n",
      "[73755, 29745]\n",
      "[12927, 58362]\n",
      "[12558, 43883]\n",
      "[49404, 5689]\n",
      "[7962, 19547]\n",
      "[55252, 22032]\n",
      "[85886, 16617]\n",
      "[56102, 85937]\n",
      "[3234, 65797]\n",
      "[70532, 58358]\n",
      "[42328, 81347]\n",
      "[10010, 40941]\n",
      "[75383, 88008]\n",
      "[87856, 50766]\n",
      "[9452, 52027]\n",
      "[50242, 29569]\n",
      "[11627, 72421]\n",
      "[37463, 87455]\n",
      "[25444, 38260]\n",
      "[78537, 12401]\n",
      "[83421, 70168]\n",
      "[42688, 67042]\n"
     ]
    }
   ],
   "source": [
    "for e in ep:\n",
    "    print(e['PairA'])"
   ]
  },
  {
   "cell_type": "code",
   "execution_count": 44,
   "metadata": {},
   "outputs": [],
   "source": [
    "id2sent = {v:k for k,v in meta['sentences'].items()}"
   ]
  },
  {
   "cell_type": "code",
   "execution_count": 66,
   "metadata": {},
   "outputs": [
    {
     "data": {
      "text/plain": [
       "'(S (Q some)(A red)(N N39.5)(C )(R that hum)(Neg not)(V V35.3))'"
      ]
     },
     "execution_count": 66,
     "metadata": {},
     "output_type": "execute_result"
    }
   ],
   "source": [
    "id2sent[42688]"
   ]
  },
  {
   "cell_type": "code",
   "execution_count": 65,
   "metadata": {},
   "outputs": [
    {
     "data": {
      "text/plain": [
       "'(S (Q all)(A red)(N N39.5)(C )(R that hum)(Neg )(V V35.3))'"
      ]
     },
     "execution_count": 65,
     "metadata": {},
     "output_type": "execute_result"
    }
   ],
   "source": [
    "id2sent[67042]"
   ]
  },
  {
   "cell_type": "code",
   "execution_count": null,
   "metadata": {},
   "outputs": [],
   "source": []
  }
 ],
 "metadata": {
  "kernelspec": {
   "display_name": "Python 3",
   "language": "python",
   "name": "python3"
  },
  "language_info": {
   "codemirror_mode": {
    "name": "ipython",
    "version": 3
   },
   "file_extension": ".py",
   "mimetype": "text/x-python",
   "name": "python",
   "nbconvert_exporter": "python",
   "pygments_lexer": "ipython3",
   "version": "3.7.6"
  }
 },
 "nbformat": 4,
 "nbformat_minor": 2
}
